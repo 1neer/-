{
 "cells": [
  {
   "cell_type": "code",
   "execution_count": 30,
   "id": "93513694-61bf-4a69-a008-9cf2ed1ff13c",
   "metadata": {},
   "outputs": [],
   "source": [
    "import csv\n",
    "# selenium의 webdriver를 사용하기 위한 import\n",
    "from selenium import webdriver\n",
    "\n",
    "# selenium으로 키를 조작하기 위한 import\n",
    "from selenium.webdriver.common.keys import Keys\n",
    "from selenium.webdriver.common.by import By\n",
    "\n",
    "# 페이지 로딩을 기다리는데에 사용할 time 모듈 import\n",
    "import time\n",
    "import numpy as np\n",
    "import pandas as pd"
   ]
  },
  {
   "cell_type": "code",
   "execution_count": 36,
   "id": "75337af2-0b55-4532-82fb-c8c928cb779b",
   "metadata": {},
   "outputs": [],
   "source": [
    "def change_url(a):\n",
    "    url = f\"https://www.innoforest.co.kr/dataroom?bizArray=20&page={str(a)}&orderByField=\"\n",
    "    return url"
   ]
  },
  {
   "cell_type": "code",
   "execution_count": 37,
   "id": "ced99e3b-e884-4cd0-bd48-299798257ae2",
   "metadata": {},
   "outputs": [],
   "source": [
    "company_page = []"
   ]
  },
  {
   "cell_type": "code",
   "execution_count": 38,
   "id": "dbbbce68-b1d2-4cdc-bb26-4e6cb2364a9d",
   "metadata": {},
   "outputs": [],
   "source": [
    "# 크롬드라이버 실행\n",
    "a = 1\n",
    "url = change_url(a)\n",
    "driver = webdriver.Chrome()\n",
    "\n",
    "\n",
    "#크롬 드라이버에 url 주소 넣고 실행\n",
    "driver.get(url)\n",
    "\n",
    "# 페이지가 완전히 로딩되도록 3초동안 기다림\n",
    "time.sleep(3)"
   ]
  },
  {
   "cell_type": "code",
   "execution_count": 35,
   "id": "1dccde75-019e-4671-bb77-3590209b225b",
   "metadata": {},
   "outputs": [
    {
     "name": "stdout",
     "output_type": "stream",
     "text": [
      "['https://www.innoforest.co.kr/company/CP00011953', 'https://www.innoforest.co.kr/company/CP00002090', 'https://www.innoforest.co.kr/company/CP00003330', 'https://www.innoforest.co.kr/company/CP00000013', 'https://www.innoforest.co.kr/company/CP00003213', 'https://www.innoforest.co.kr/company/CP00000471', 'https://www.innoforest.co.kr/company/CP00010384', 'https://www.innoforest.co.kr/company/CP00012644', 'https://www.innoforest.co.kr/company/CP00002804', 'https://www.innoforest.co.kr/company/CP00003064', 'https://www.innoforest.co.kr/company/CP00010445', 'https://www.innoforest.co.kr/company/CP00013132', 'https://www.innoforest.co.kr/company/CP00000356', 'https://www.innoforest.co.kr/company/CP00003257', 'https://www.innoforest.co.kr/company/CP00010476', 'https://www.innoforest.co.kr/company/CP00002696', 'https://www.innoforest.co.kr/company/CP00014881', 'https://www.innoforest.co.kr/company/CP00003334', 'https://www.innoforest.co.kr/company/CP00010290', 'https://www.innoforest.co.kr/company/CP00016312', 'https://www.innoforest.co.kr/company/CP00011953', 'https://www.innoforest.co.kr/company/CP00002090', 'https://www.innoforest.co.kr/company/CP00003330', 'https://www.innoforest.co.kr/company/CP00000013', 'https://www.innoforest.co.kr/company/CP00003213', 'https://www.innoforest.co.kr/company/CP00000471', 'https://www.innoforest.co.kr/company/CP00010384', 'https://www.innoforest.co.kr/company/CP00012644', 'https://www.innoforest.co.kr/company/CP00002804', 'https://www.innoforest.co.kr/company/CP00003064', 'https://www.innoforest.co.kr/company/CP00010445', 'https://www.innoforest.co.kr/company/CP00013132', 'https://www.innoforest.co.kr/company/CP00000356', 'https://www.innoforest.co.kr/company/CP00003257', 'https://www.innoforest.co.kr/company/CP00010476', 'https://www.innoforest.co.kr/company/CP00002696', 'https://www.innoforest.co.kr/company/CP00014881', 'https://www.innoforest.co.kr/company/CP00003334', 'https://www.innoforest.co.kr/company/CP00010290', 'https://www.innoforest.co.kr/company/CP00016312']\n"
     ]
    }
   ],
   "source": [
    "company_title = driver.find_elements(By.CLASS_NAME, \"css-1uoamx5\")\n",
    "for i in company_title:\n",
    "    company_page.append(i.get_attribute('href'))\n",
    "print(company_page)"
   ]
  },
  {
   "cell_type": "code",
   "execution_count": null,
   "id": "98ba3302-e8f7-407a-a951-8a1a66bbf601",
   "metadata": {},
   "outputs": [],
   "source": []
  }
 ],
 "metadata": {
  "kernelspec": {
   "display_name": "Python 3 (ipykernel)",
   "language": "python",
   "name": "python3"
  },
  "language_info": {
   "codemirror_mode": {
    "name": "ipython",
    "version": 3
   },
   "file_extension": ".py",
   "mimetype": "text/x-python",
   "name": "python",
   "nbconvert_exporter": "python",
   "pygments_lexer": "ipython3",
   "version": "3.11.7"
  }
 },
 "nbformat": 4,
 "nbformat_minor": 5
}
